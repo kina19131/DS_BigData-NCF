{
  "nbformat": 4,
  "nbformat_minor": 0,
  "metadata": {
    "colab": {
      "provenance": [],
      "toc_visible": true
    },
    "kernelspec": {
      "name": "python3",
      "display_name": "Python 3"
    },
    "language_info": {
      "name": "python"
    }
  },
  "cells": [
    {
      "cell_type": "markdown",
      "source": [
        "# MIE524 - Assignment 5\n",
        "Please complete this notebook for Assignment 5."
      ],
      "metadata": {
        "id": "ona6ZzEAnl_C"
      }
    },
    {
      "cell_type": "markdown",
      "source": [
        "## Imports"
      ],
      "metadata": {
        "id": "ngk-cxGHoIBk"
      }
    },
    {
      "cell_type": "code",
      "source": [
        "import pandas as pd\n",
        "import numpy as np"
      ],
      "metadata": {
        "id": "sfmt3VUToNBt"
      },
      "execution_count": null,
      "outputs": []
    },
    {
      "cell_type": "markdown",
      "source": [
        "## Q1 - Neural Collaborative Filtering\n",
        "[[paper]](https://arxiv.org/pdf/1708.05031.pdf)"
      ],
      "metadata": {
        "id": "cQlyhJr7nx2C"
      }
    },
    {
      "cell_type": "code",
      "source": [
        "import torch\n",
        "import torch.nn as nn\n",
        "import torch.nn.functional as F"
      ],
      "metadata": {
        "id": "aXAtjfIFpfMJ"
      },
      "execution_count": null,
      "outputs": []
    },
    {
      "cell_type": "markdown",
      "source": [
        "### Data\n",
        "The MovieLens dataset (ml-latest-small) describes 5-star rating and free-text tagging activity from MovieLens, a movie recommendation service. It contains 100004 ratings and 1296 tag applications across 9125 movies."
      ],
      "metadata": {
        "id": "4DzMCkUYodFQ"
      }
    },
    {
      "cell_type": "code",
      "execution_count": null,
      "metadata": {
        "id": "fpULkr9gnBrN"
      },
      "outputs": [],
      "source": [
        "data = pd.read_csv(\"ratings.csv\")"
      ]
    },
    {
      "cell_type": "markdown",
      "source": [
        "### Encode Data"
      ],
      "metadata": {
        "id": "lw5QohbppLsF"
      }
    },
    {
      "cell_type": "code",
      "source": [
        "# split train and validation before encoding\n",
        "np.random.seed(3)\n",
        "msk = np.random.rand(len(data)) < 0.8\n",
        "train = data[msk].copy()\n",
        "val = data[~msk].copy()"
      ],
      "metadata": {
        "id": "JN7_KSRnpHuy"
      },
      "execution_count": null,
      "outputs": []
    },
    {
      "cell_type": "code",
      "source": [
        "# here is a handy function modified from fast.ai\n",
        "def proc_col(col, train_col=None):\n",
        "    \"\"\"Encodes a pandas column with continuous ids.\n",
        "    \"\"\"\n",
        "    if train_col is not None:\n",
        "        uniq = train_col.unique()\n",
        "    else:\n",
        "        uniq = col.unique()\n",
        "    name2idx = {o:i for i,o in enumerate(uniq)}\n",
        "    return name2idx, np.array([name2idx.get(x, -1) for x in col]), len(uniq)"
      ],
      "metadata": {
        "id": "b8eckHjYpHiu"
      },
      "execution_count": null,
      "outputs": []
    },
    {
      "cell_type": "code",
      "source": [
        "def encode_data(df, train=None):\n",
        "    \"\"\" Encodes rating data with continous user and movie ids.\n",
        "    If train is provided, encodes df with the same encoding as train.\n",
        "    \"\"\"\n",
        "    df = df.copy()\n",
        "    for col_name in [\"userId\", \"movieId\"]:\n",
        "        train_col = None\n",
        "        if train is not None:\n",
        "            train_col = train[col_name]\n",
        "        _,col,_ = proc_col(df[col_name], train_col)\n",
        "        df[col_name] = col\n",
        "        df = df[df[col_name] >= 0]\n",
        "    return df"
      ],
      "metadata": {
        "id": "am86fxhppOpp"
      },
      "execution_count": null,
      "outputs": []
    },
    {
      "cell_type": "code",
      "source": [
        "# encoding the train and validation data\n",
        "df_train = encode_data(train)\n",
        "df_val = encode_data(val, train)"
      ],
      "metadata": {
        "id": "zELEhSXQpSb7"
      },
      "execution_count": null,
      "outputs": []
    },
    {
      "cell_type": "markdown",
      "source": [
        "### a) Evaluate model parameters for NCF-GMF"
      ],
      "metadata": {
        "id": "lPXMy7VkFaPs"
      }
    },
    {
      "cell_type": "code",
      "source": [
        "# YOUR CODE HERE"
      ],
      "metadata": {
        "id": "T0JOqTqCFhWP"
      },
      "execution_count": null,
      "outputs": []
    },
    {
      "cell_type": "markdown",
      "source": [
        "### b) NCF-MLP Model\n",
        "\n",
        "<img src=https://miro.medium.com/v2/resize:fit:1400/format:webp/1*aP-Mx266ExwoWZPSdHtYpA.png width=\"600\">\n"
      ],
      "metadata": {
        "id": "1J9HMXYnoer8"
      }
    },
    {
      "cell_type": "code",
      "source": [
        "class my_NCF_MLP(nn.Module):\n",
        "    def __init__(self, num_users, num_items, emb_size=100, hidden_size=10):\n",
        "        super(my_NCF_MLP, self).__init__()\n",
        "\n",
        "        # YOUR CODE HERE\n",
        "\n",
        "    def forward(self, u, v):\n",
        "\n",
        "        # YOUR CODE HERE"
      ],
      "metadata": {
        "id": "6BP9a7xIof7s"
      },
      "execution_count": null,
      "outputs": []
    },
    {
      "cell_type": "markdown",
      "source": [
        "Train model"
      ],
      "metadata": {
        "id": "CS_fx_0E2Rfa"
      }
    },
    {
      "cell_type": "code",
      "source": [
        "def train_epocs(model, epochs=10, lr=0.01, wd=0.0):\n",
        "    # YOUR CODE HERE"
      ],
      "metadata": {
        "id": "TJAtpqCC2T50"
      },
      "execution_count": null,
      "outputs": []
    },
    {
      "cell_type": "markdown",
      "source": [
        "### c) Evaluate model parameters for NCF-MLP"
      ],
      "metadata": {
        "id": "d66B7bBu2rmP"
      }
    },
    {
      "cell_type": "code",
      "source": [
        "# YOUR CODE HERE"
      ],
      "metadata": {
        "id": "2PiqtnB22qfC"
      },
      "execution_count": null,
      "outputs": []
    },
    {
      "cell_type": "markdown",
      "source": [
        "### d) Compare your best NCF-GMF and NCF-MLP"
      ],
      "metadata": {
        "id": "q573mVcK22rG"
      }
    },
    {
      "cell_type": "code",
      "source": [
        "# YOUR CODE HERE"
      ],
      "metadata": {
        "id": "bF0YHCSl260Z"
      },
      "execution_count": null,
      "outputs": []
    },
    {
      "cell_type": "markdown",
      "source": [
        "Written comments:"
      ],
      "metadata": {
        "id": "SsrbJN8r272U"
      }
    },
    {
      "cell_type": "markdown",
      "source": [
        "### e) Change ratings to 1 or 0."
      ],
      "metadata": {
        "id": "n70Cj_al3FGB"
      }
    },
    {
      "cell_type": "code",
      "source": [
        "# YOUR CODE HERE"
      ],
      "metadata": {
        "id": "Cd_Dgz3F3NiL"
      },
      "execution_count": null,
      "outputs": []
    },
    {
      "cell_type": "markdown",
      "source": [
        "Written answer:"
      ],
      "metadata": {
        "id": "ZgKSEl313IpU"
      }
    },
    {
      "cell_type": "markdown",
      "source": [
        "## Q2 - Zero-Shot Text Classification\n",
        "https://huggingface.co/tasks/zero-shot-classification"
      ],
      "metadata": {
        "id": "cwJOYh9U3PvF"
      }
    },
    {
      "cell_type": "code",
      "source": [
        "!pip install transformers"
      ],
      "metadata": {
        "id": "qaK2_MN92_UP"
      },
      "execution_count": null,
      "outputs": []
    },
    {
      "cell_type": "code",
      "source": [
        "from transformers import pipeline"
      ],
      "metadata": {
        "id": "L9h9p5PA3d6d"
      },
      "execution_count": null,
      "outputs": []
    },
    {
      "cell_type": "markdown",
      "source": [
        "### Data"
      ],
      "metadata": {
        "id": "_C7EdFWC3gsC"
      }
    },
    {
      "cell_type": "code",
      "source": [
        "arxiv_data = pd.read_csv('q2-arxiv-metadata-oai-snapshot-small.csv', index_col = 0)"
      ],
      "metadata": {
        "id": "9ozuDWMq3ha9"
      },
      "execution_count": null,
      "outputs": []
    },
    {
      "cell_type": "markdown",
      "source": [
        "### a) Precict categories and compute performance"
      ],
      "metadata": {
        "id": "sEW3pcLw4a_A"
      }
    },
    {
      "cell_type": "code",
      "source": [
        "# YOUR CODE HERE"
      ],
      "metadata": {
        "id": "Q4i069n03yMi"
      },
      "execution_count": null,
      "outputs": []
    },
    {
      "cell_type": "markdown",
      "source": [
        "### b) Poor performing categories"
      ],
      "metadata": {
        "id": "6qMKl2M94idV"
      }
    },
    {
      "cell_type": "code",
      "source": [
        "# YOUR CODE HERE"
      ],
      "metadata": {
        "id": "-VsykOj64h9G"
      },
      "execution_count": null,
      "outputs": []
    },
    {
      "cell_type": "markdown",
      "source": [
        "Written answer:"
      ],
      "metadata": {
        "id": "6PCROGaW4o7-"
      }
    },
    {
      "cell_type": "markdown",
      "source": [
        "### c) Evaluate different language models"
      ],
      "metadata": {
        "id": "CrojPlx-40ZA"
      }
    },
    {
      "cell_type": "code",
      "source": [
        "# YOUR CODE HERE"
      ],
      "metadata": {
        "id": "x41s62Jk4qo-"
      },
      "execution_count": null,
      "outputs": []
    },
    {
      "cell_type": "markdown",
      "source": [
        "Written answer:"
      ],
      "metadata": {
        "id": "VqnDEqxw47G9"
      }
    },
    {
      "cell_type": "markdown",
      "source": [
        "### d) Repear parts a) and b) with the abstracts"
      ],
      "metadata": {
        "id": "XEcL2SxsGaZy"
      }
    },
    {
      "cell_type": "code",
      "source": [
        "# YOUR CODE HERE"
      ],
      "metadata": {
        "id": "rTaHNX4OGfgE"
      },
      "execution_count": null,
      "outputs": []
    },
    {
      "cell_type": "markdown",
      "source": [
        "Written asnwer:"
      ],
      "metadata": {
        "id": "8o0YdJ3OGh3V"
      }
    },
    {
      "cell_type": "markdown",
      "source": [],
      "metadata": {
        "id": "L0Bh4tTOG-2-"
      }
    },
    {
      "cell_type": "markdown",
      "source": [
        "### e) Change labels to long descriptions"
      ],
      "metadata": {
        "id": "roRQOgoGGjuR"
      }
    },
    {
      "cell_type": "code",
      "source": [
        "# YOUR CODE HERE"
      ],
      "metadata": {
        "id": "NuhaR029Giye"
      },
      "execution_count": null,
      "outputs": []
    },
    {
      "cell_type": "markdown",
      "source": [
        "Written answers:"
      ],
      "metadata": {
        "id": "Zq9nCEjCGnpG"
      }
    },
    {
      "cell_type": "code",
      "source": [],
      "metadata": {
        "id": "d9Tt6_S1GjTh"
      },
      "execution_count": null,
      "outputs": []
    }
  ]
}